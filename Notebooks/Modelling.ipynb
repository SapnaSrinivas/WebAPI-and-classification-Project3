{
 "cells": [
  {
   "cell_type": "markdown",
   "metadata": {},
   "source": [
    "## WEB APIs AND CLASSIFICATION-3\n"
   ]
  },
  {
   "cell_type": "markdown",
   "metadata": {},
   "source": [
    "### Importing libraries"
   ]
  },
  {
   "cell_type": "code",
   "execution_count": 1,
   "metadata": {},
   "outputs": [],
   "source": [
    "import pandas as pd\n",
    "import numpy as np\n",
    "import matplotlib.pyplot as plt\n",
    "from sklearn.feature_extraction.text import CountVectorizer, TfidfVectorizer\n",
    "from sklearn.pipeline import make_pipeline, Pipeline\n",
    "from sklearn.metrics import accuracy_score\n",
    "from sklearn.metrics import confusion_matrix, roc_auc_score\n",
    "from nltk.stem import WordNetLemmatizer\n",
    "import nltk\n",
    "from nltk.corpus import stopwords\n",
    "from nltk.tokenize import sent_tokenize, word_tokenize\n",
    "from sklearn.naive_bayes import MultinomialNB\n",
    "from sklearn.linear_model import LogisticRegression\n",
    "from sklearn.model_selection import train_test_split\n",
    "from sklearn.model_selection import GridSearchCV\n",
    "import seaborn as sns\n",
    "\n",
    "\n",
    "\n",
    "%matplotlib inline"
   ]
  },
  {
   "cell_type": "markdown",
   "metadata": {},
   "source": [
    "### Reading the csv file"
   ]
  },
  {
   "cell_type": "code",
   "execution_count": 2,
   "metadata": {},
   "outputs": [],
   "source": [
    "df = pd.read_csv('final_df.csv')"
   ]
  },
  {
   "cell_type": "code",
   "execution_count": 3,
   "metadata": {
    "scrolled": false
   },
   "outputs": [
    {
     "data": {
      "text/html": [
       "<div>\n",
       "<style scoped>\n",
       "    .dataframe tbody tr th:only-of-type {\n",
       "        vertical-align: middle;\n",
       "    }\n",
       "\n",
       "    .dataframe tbody tr th {\n",
       "        vertical-align: top;\n",
       "    }\n",
       "\n",
       "    .dataframe thead th {\n",
       "        text-align: right;\n",
       "    }\n",
       "</style>\n",
       "<table border=\"1\" class=\"dataframe\">\n",
       "  <thead>\n",
       "    <tr style=\"text-align: right;\">\n",
       "      <th></th>\n",
       "      <th>title</th>\n",
       "      <th>selftext</th>\n",
       "      <th>label</th>\n",
       "      <th>clean_title</th>\n",
       "      <th>clean_selftext</th>\n",
       "      <th>clean_title_lemmat</th>\n",
       "      <th>clean_selftext_lemmat</th>\n",
       "      <th>clean_title_porter</th>\n",
       "      <th>clean_selftext_porter</th>\n",
       "    </tr>\n",
       "  </thead>\n",
       "  <tbody>\n",
       "    <tr>\n",
       "      <th>0</th>\n",
       "      <td>Join our Discord server!</td>\n",
       "      <td>Hey guys! r/diet is undergoing a refresh, and ...</td>\n",
       "      <td>0</td>\n",
       "      <td>join discord server</td>\n",
       "      <td>hey guys r diet undergoing refresh order grow ...</td>\n",
       "      <td>join discord server</td>\n",
       "      <td>hey guy r diet undergoing refresh order grow c...</td>\n",
       "      <td>join discord server</td>\n",
       "      <td>hey guy r diet undergo refresh order grow comm...</td>\n",
       "    </tr>\n",
       "    <tr>\n",
       "      <th>1</th>\n",
       "      <td>These sattvic foods are amazing to gain streng...</td>\n",
       "      <td>These sattvic foods are amazing to gain streng...</td>\n",
       "      <td>0</td>\n",
       "      <td>sattvic foods amazing gain strength endurance ...</td>\n",
       "      <td>sattvic foods amazing gain strength endurance ...</td>\n",
       "      <td>sattvic food amazing gain strength endurance m...</td>\n",
       "      <td>sattvic food amazing gain strength endurance m...</td>\n",
       "      <td>sattvic food amaz gain strength endur must rig...</td>\n",
       "      <td>sattvic food amaz gain strength endur must rig...</td>\n",
       "    </tr>\n",
       "    <tr>\n",
       "      <th>2</th>\n",
       "      <td>You don’t need to eliminate gluten from your d...</td>\n",
       "      <td>The times you want to avoid gluten are when yo...</td>\n",
       "      <td>0</td>\n",
       "      <td>need eliminate gluten diet unless medical cond...</td>\n",
       "      <td>times want avoid gluten celiac food sensitivit...</td>\n",
       "      <td>need eliminate gluten diet unless medical cond...</td>\n",
       "      <td>time want avoid gluten celiac food sensitivity...</td>\n",
       "      <td>need elimin gluten diet unless medic condit al...</td>\n",
       "      <td>time want avoid gluten celiac food sensit glut...</td>\n",
       "    </tr>\n",
       "    <tr>\n",
       "      <th>3</th>\n",
       "      <td>How to lose the rest of my belly fat</td>\n",
       "      <td>I’ve been dieting for months now and working o...</td>\n",
       "      <td>0</td>\n",
       "      <td>lose rest belly fat</td>\n",
       "      <td>dieting months working 5 times week lost 40 po...</td>\n",
       "      <td>lose rest belly fat</td>\n",
       "      <td>dieting month working 5 time week lost 40 poun...</td>\n",
       "      <td>lose rest belli fat</td>\n",
       "      <td>diet month work 5 time week lost 40 pound feel...</td>\n",
       "    </tr>\n",
       "    <tr>\n",
       "      <th>4</th>\n",
       "      <td>Can someone explain my curent 'diet' plan? ful...</td>\n",
       "      <td>Backstory: I have been trying to lose weight f...</td>\n",
       "      <td>0</td>\n",
       "      <td>someone explain curent diet plan full story</td>\n",
       "      <td>backstory trying lose weight time gotten overw...</td>\n",
       "      <td>someone explain curent diet plan full story</td>\n",
       "      <td>backstory trying lose weight time gotten overw...</td>\n",
       "      <td>someon explain curent diet plan full stori</td>\n",
       "      <td>backstori tri lose weight time gotten overweig...</td>\n",
       "    </tr>\n",
       "  </tbody>\n",
       "</table>\n",
       "</div>"
      ],
      "text/plain": [
       "                                               title  \\\n",
       "0                           Join our Discord server!   \n",
       "1  These sattvic foods are amazing to gain streng...   \n",
       "2  You don’t need to eliminate gluten from your d...   \n",
       "3               How to lose the rest of my belly fat   \n",
       "4  Can someone explain my curent 'diet' plan? ful...   \n",
       "\n",
       "                                            selftext  label  \\\n",
       "0  Hey guys! r/diet is undergoing a refresh, and ...      0   \n",
       "1  These sattvic foods are amazing to gain streng...      0   \n",
       "2  The times you want to avoid gluten are when yo...      0   \n",
       "3  I’ve been dieting for months now and working o...      0   \n",
       "4  Backstory: I have been trying to lose weight f...      0   \n",
       "\n",
       "                                         clean_title  \\\n",
       "0                                join discord server   \n",
       "1  sattvic foods amazing gain strength endurance ...   \n",
       "2  need eliminate gluten diet unless medical cond...   \n",
       "3                                lose rest belly fat   \n",
       "4        someone explain curent diet plan full story   \n",
       "\n",
       "                                      clean_selftext  \\\n",
       "0  hey guys r diet undergoing refresh order grow ...   \n",
       "1  sattvic foods amazing gain strength endurance ...   \n",
       "2  times want avoid gluten celiac food sensitivit...   \n",
       "3  dieting months working 5 times week lost 40 po...   \n",
       "4  backstory trying lose weight time gotten overw...   \n",
       "\n",
       "                                  clean_title_lemmat  \\\n",
       "0                               join discord server    \n",
       "1  sattvic food amazing gain strength endurance m...   \n",
       "2  need eliminate gluten diet unless medical cond...   \n",
       "3                               lose rest belly fat    \n",
       "4       someone explain curent diet plan full story    \n",
       "\n",
       "                               clean_selftext_lemmat  \\\n",
       "0  hey guy r diet undergoing refresh order grow c...   \n",
       "1  sattvic food amazing gain strength endurance m...   \n",
       "2  time want avoid gluten celiac food sensitivity...   \n",
       "3  dieting month working 5 time week lost 40 poun...   \n",
       "4  backstory trying lose weight time gotten overw...   \n",
       "\n",
       "                                  clean_title_porter  \\\n",
       "0                               join discord server    \n",
       "1  sattvic food amaz gain strength endur must rig...   \n",
       "2  need elimin gluten diet unless medic condit al...   \n",
       "3                               lose rest belli fat    \n",
       "4        someon explain curent diet plan full stori    \n",
       "\n",
       "                               clean_selftext_porter  \n",
       "0  hey guy r diet undergo refresh order grow comm...  \n",
       "1  sattvic food amaz gain strength endur must rig...  \n",
       "2  time want avoid gluten celiac food sensit glut...  \n",
       "3  diet month work 5 time week lost 40 pound feel...  \n",
       "4  backstori tri lose weight time gotten overweig...  "
      ]
     },
     "execution_count": 3,
     "metadata": {},
     "output_type": "execute_result"
    }
   ],
   "source": [
    "df.head()"
   ]
  },
  {
   "cell_type": "code",
   "execution_count": 4,
   "metadata": {},
   "outputs": [
    {
     "data": {
      "text/plain": [
       "(1900, 9)"
      ]
     },
     "execution_count": 4,
     "metadata": {},
     "output_type": "execute_result"
    }
   ],
   "source": [
    "# Checking dataframe shape\n",
    "df.shape"
   ]
  },
  {
   "cell_type": "code",
   "execution_count": 5,
   "metadata": {},
   "outputs": [
    {
     "data": {
      "text/plain": [
       "0"
      ]
     },
     "execution_count": 5,
     "metadata": {},
     "output_type": "execute_result"
    }
   ],
   "source": [
    "# Checking for null values\n",
    "df.isnull().sum().sum()"
   ]
  },
  {
   "cell_type": "code",
   "execution_count": 6,
   "metadata": {},
   "outputs": [
    {
     "data": {
      "text/plain": [
       "Index(['title', 'selftext', 'label', 'clean_title', 'clean_selftext',\n",
       "       'clean_title_lemmat', 'clean_selftext_lemmat', 'clean_title_porter',\n",
       "       'clean_selftext_porter'],\n",
       "      dtype='object')"
      ]
     },
     "execution_count": 6,
     "metadata": {},
     "output_type": "execute_result"
    }
   ],
   "source": [
    "# Checking column names\n",
    "df.columns"
   ]
  },
  {
   "cell_type": "code",
   "execution_count": 7,
   "metadata": {},
   "outputs": [
    {
     "name": "stdout",
     "output_type": "stream",
     "text": [
      "<class 'pandas.core.frame.DataFrame'>\n",
      "Int64Index: 1900 entries, 0 to 1903\n",
      "Data columns (total 9 columns):\n",
      "title                    1900 non-null object\n",
      "selftext                 1900 non-null object\n",
      "label                    1900 non-null int64\n",
      "clean_title              1900 non-null object\n",
      "clean_selftext           1900 non-null object\n",
      "clean_title_lemmat       1900 non-null object\n",
      "clean_selftext_lemmat    1900 non-null object\n",
      "clean_title_porter       1900 non-null object\n",
      "clean_selftext_porter    1900 non-null object\n",
      "dtypes: int64(1), object(8)\n",
      "memory usage: 148.4+ KB\n"
     ]
    }
   ],
   "source": [
    "# checking the null values and data type\n",
    "df.info()"
   ]
  },
  {
   "cell_type": "markdown",
   "metadata": {},
   "source": [
    "## Model Prep\n",
    "----\n",
    "Let's set up our data for modelling:\n",
    "\n",
    "I am trying to fit the model on clean_selftext_lemmat as these  column has most of the data which is \n",
    "preprocessed  and lemmatized. I have ignored the rest of the columns as clean_selftext_lemmat is doing my job to classify the subreddits"
   ]
  },
  {
   "cell_type": "markdown",
   "metadata": {},
   "source": [
    "### Splitting the dataframe (df) into two dataframes as( train _df) and (test_df)\n",
    "\n",
    "Here we are spliiting the dataframe so that we train the data using the data from train_df and then test it by predicting and checkingthe score of the model using test_df."
   ]
  },
  {
   "cell_type": "code",
   "execution_count": 8,
   "metadata": {},
   "outputs": [],
   "source": [
    "train_df,test_df = train_test_split(df, shuffle = True, random_state = 42 )\n"
   ]
  },
  {
   "cell_type": "markdown",
   "metadata": {},
   "source": [
    "I will keep my feature as clean_selftext_lemmat and model the data\n",
    "1. Using CountVectorizer\n",
    "    -Logistic Regression\n",
    "    -Naive Bayes\n",
    "2. TF-IDF\n",
    "    -Logistic Regression\n",
    "    -Naive Bayes"
   ]
  },
  {
   "cell_type": "code",
   "execution_count": 9,
   "metadata": {},
   "outputs": [],
   "source": [
    "X = train_df['clean_selftext_lemmat']\n",
    "y = train_df['label']"
   ]
  },
  {
   "cell_type": "code",
   "execution_count": 10,
   "metadata": {},
   "outputs": [
    {
     "data": {
      "text/plain": [
       "(1425, 9)"
      ]
     },
     "execution_count": 10,
     "metadata": {},
     "output_type": "execute_result"
    }
   ],
   "source": [
    "# checking the shape of train_df\n",
    "train_df.shape"
   ]
  },
  {
   "cell_type": "code",
   "execution_count": 11,
   "metadata": {},
   "outputs": [
    {
     "data": {
      "text/plain": [
       "(475, 9)"
      ]
     },
     "execution_count": 11,
     "metadata": {},
     "output_type": "execute_result"
    }
   ],
   "source": [
    "# checking the shape of test_df\n",
    "test_df.shape"
   ]
  },
  {
   "cell_type": "code",
   "execution_count": 12,
   "metadata": {},
   "outputs": [],
   "source": [
    "# Splitting the train_df to train and test\n",
    "X_train, X_val, y_train, y_val = train_test_split( X,y, stratify = y, random_state = 42)"
   ]
  },
  {
   "cell_type": "markdown",
   "metadata": {},
   "source": [
    "### Pipeline\n",
    "_______\n",
    "Our pipeline will consist of two stages:\n",
    "1. An instance of CountVectorizer\n",
    "2. A Logistic Regression instance\n",
    "\n",
    "Pipelines are used to help automate workflow as in our case,the countVectorizer will be creating vectors that have dimensionality to the size of our vocabulary followed by logistic regression to model dependent variable by calling the fit() function in order to learn a vaocabulary from one or more documents."
   ]
  },
  {
   "cell_type": "code",
   "execution_count": 13,
   "metadata": {},
   "outputs": [],
   "source": [
    "# we are using stop words such as diet and exercise.\n",
    "pipe = Pipeline([('cvec', CountVectorizer(stop_words=['diet','exercise'])),\n",
    "                ('lr', LogisticRegression())\n",
    "                ])"
   ]
  },
  {
   "cell_type": "markdown",
   "metadata": {},
   "source": [
    "### GridSearchCV using Logistic Regression\n",
    "By doing gridsearch we will know the optimal hyperparameter settings, the set that results in the best model evaluation.\n",
    "we want to know the optimal hyperparameter settings, the set that results in the best model evaluation.\n",
    "Gridsearching uses cross-validation internally to evaluate the performance of each set of hyperparameters."
   ]
  },
  {
   "cell_type": "code",
   "execution_count": 14,
   "metadata": {},
   "outputs": [
    {
     "name": "stderr",
     "output_type": "stream",
     "text": [
      "C:\\Users\\sapna\\Anaconda3\\lib\\site-packages\\sklearn\\linear_model\\logistic.py:433: FutureWarning: Default solver will be changed to 'lbfgs' in 0.22. Specify a solver to silence this warning.\n",
      "  FutureWarning)\n"
     ]
    },
    {
     "name": "stdout",
     "output_type": "stream",
     "text": [
      "0.8679775280898876\n"
     ]
    },
    {
     "data": {
      "text/plain": [
       "{'cvec__max_df': 0.9,\n",
       " 'cvec__max_features': 2500,\n",
       " 'cvec__min_df': 2,\n",
       " 'cvec__ngram_range': (1, 2)}"
      ]
     },
     "execution_count": 14,
     "metadata": {},
     "output_type": "execute_result"
    }
   ],
   "source": [
    "pipe_params = {\n",
    "    \n",
    "    'cvec__max_features': [2500, 3000, 3500],\n",
    "    'cvec__min_df': [2,3],\n",
    "    'cvec__max_df': [.9, .95],\n",
    "    'cvec__ngram_range': [(1,1),(1,2)]\n",
    "}\n",
    "gs = GridSearchCV(pipe, param_grid = pipe_params, cv = 5)\n",
    "gs.fit(X_train, y_train)\n",
    "print(gs.best_score_)\n",
    "gs.best_params_"
   ]
  },
  {
   "cell_type": "code",
   "execution_count": 15,
   "metadata": {
    "scrolled": true
   },
   "outputs": [
    {
     "data": {
      "text/plain": [
       "0.9897003745318352"
      ]
     },
     "execution_count": 15,
     "metadata": {},
     "output_type": "execute_result"
    }
   ],
   "source": [
    "gs.score(X_train, y_train)"
   ]
  },
  {
   "cell_type": "code",
   "execution_count": 16,
   "metadata": {},
   "outputs": [
    {
     "data": {
      "text/plain": [
       "0.8431372549019608"
      ]
     },
     "execution_count": 16,
     "metadata": {},
     "output_type": "execute_result"
    }
   ],
   "source": [
    "gs.score(X_val, y_val)"
   ]
  },
  {
   "cell_type": "code",
   "execution_count": 17,
   "metadata": {},
   "outputs": [
    {
     "data": {
      "text/plain": [
       "7.728263690850169e-08"
      ]
     },
     "execution_count": 17,
     "metadata": {},
     "output_type": "execute_result"
    }
   ],
   "source": [
    "#Checking proba\n",
    "gs.predict_proba(X_val)[1][1]"
   ]
  },
  {
   "cell_type": "code",
   "execution_count": 18,
   "metadata": {},
   "outputs": [
    {
     "data": {
      "text/html": [
       "<div>\n",
       "<style scoped>\n",
       "    .dataframe tbody tr th:only-of-type {\n",
       "        vertical-align: middle;\n",
       "    }\n",
       "\n",
       "    .dataframe tbody tr th {\n",
       "        vertical-align: top;\n",
       "    }\n",
       "\n",
       "    .dataframe thead th {\n",
       "        text-align: right;\n",
       "    }\n",
       "</style>\n",
       "<table border=\"1\" class=\"dataframe\">\n",
       "  <thead>\n",
       "    <tr style=\"text-align: right;\">\n",
       "      <th></th>\n",
       "      <th>true_values</th>\n",
       "      <th>pred_probs</th>\n",
       "    </tr>\n",
       "  </thead>\n",
       "  <tbody>\n",
       "    <tr>\n",
       "      <th>705</th>\n",
       "      <td>0</td>\n",
       "      <td>1.907693e-08</td>\n",
       "    </tr>\n",
       "    <tr>\n",
       "      <th>56</th>\n",
       "      <td>0</td>\n",
       "      <td>7.728264e-08</td>\n",
       "    </tr>\n",
       "    <tr>\n",
       "      <th>394</th>\n",
       "      <td>0</td>\n",
       "      <td>3.464386e-01</td>\n",
       "    </tr>\n",
       "    <tr>\n",
       "      <th>793</th>\n",
       "      <td>0</td>\n",
       "      <td>4.540155e-03</td>\n",
       "    </tr>\n",
       "    <tr>\n",
       "      <th>1758</th>\n",
       "      <td>1</td>\n",
       "      <td>9.554003e-01</td>\n",
       "    </tr>\n",
       "  </tbody>\n",
       "</table>\n",
       "</div>"
      ],
      "text/plain": [
       "      true_values    pred_probs\n",
       "705             0  1.907693e-08\n",
       "56              0  7.728264e-08\n",
       "394             0  3.464386e-01\n",
       "793             0  4.540155e-03\n",
       "1758            1  9.554003e-01"
      ]
     },
     "execution_count": 18,
     "metadata": {},
     "output_type": "execute_result"
    }
   ],
   "source": [
    "# Let's create a dataframe called pred_df that contains:\n",
    "# 1. The list of true values of our test set.\n",
    "# 2. The list of predicted probabilities based on our model\n",
    "\n",
    "\n",
    "pred_proba = [i[1] for i in gs.predict_proba(X_val)]\n",
    "\n",
    "pred_df = pd.DataFrame({'true_values' :y_val,\n",
    "                       'pred_probs' :pred_proba})\n",
    "pred_df.head(5)"
   ]
  },
  {
   "cell_type": "code",
   "execution_count": 19,
   "metadata": {},
   "outputs": [
    {
     "data": {
      "image/png": "[encoded data removed]",
      "text/plain": [
       "<Figure size 720x504 with 1 Axes>"
      ]
     },
     "metadata": {
      "needs_background": "light"
     },
     "output_type": "display_data"
    }
   ],
   "source": [
    "# Create Figure\n",
    "plt.figure(figsize = (10,7))\n",
    "\n",
    "# Create histogram of Observations\n",
    "plt.hist(pred_df[pred_df['true_values'] == 0]['pred_probs'],\n",
    "         bins = 25,\n",
    "        color ='b',\n",
    "        alpha = 0.6,\n",
    "        label = 'Outcome= diet')\n",
    "plt.hist(pred_df[pred_df['true_values'] == 1]['pred_probs'],\n",
    "         bins = 25,\n",
    "        color ='orange',\n",
    "        alpha = 0.6,\n",
    "        label = 'Outcome= exercise')\n",
    "\n",
    "# Label axes\n",
    "plt.title('Distribution of exercise and diet', fontsize=22)\n",
    "plt.ylabel('Frequency', fontsize=18)\n",
    "plt.xlabel('Predicted Probability of exercise and diet', fontsize=18)\n",
    "\n",
    "# Create Legend\n",
    "plt.legend(fontsize = 15);"
   ]
  },
  {
   "cell_type": "code",
   "execution_count": 20,
   "metadata": {},
   "outputs": [],
   "source": [
    "#Finds true positive rate\n",
    "def TPR(df, true_col, pred_prob_col, threshold):\n",
    "   true_positive = df[(df[true_col] == 1) & (df[pred_prob_col] >= threshold)].shape[0]\n",
    "   false_negative = df[(df[true_col] == 1) & (df[pred_prob_col] < threshold)].shape[0]\n",
    "   return true_positive / (true_positive + false_negative)\n",
    "\n",
    "# Define function to calculate 1 - specificity. (False positive rate.)\n",
    "def FPR(df, true_col, pred_prob_col, threshold):\n",
    "   true_negative = df[(df[true_col] == 0) & (df[pred_prob_col] <= threshold)].shape[0]\n",
    "   false_positive = df[(df[true_col] == 0) & (df[pred_prob_col] > threshold)].shape[0]\n",
    "   return 1 - (true_negative / (true_negative + false_positive))"
   ]
  },
  {
   "cell_type": "code",
   "execution_count": 21,
   "metadata": {},
   "outputs": [
    {
     "data": {
      "image/png": "[encoded data removed]",
      "text/plain": [
       "<Figure size 720x504 with 1 Axes>"
      ]
     },
     "metadata": {
      "needs_background": "light"
     },
     "output_type": "display_data"
    }
   ],
   "source": [
    "# Create figure.\n",
    "plt.figure(figsize = (10,7))\n",
    "# Create threshold values.\n",
    "thresholds = np.linspace(0, 1, 200)\n",
    "tpr_values = [TPR(pred_df, 'true_values', 'pred_probs', prob) for prob in thresholds]\n",
    "fpr_values = [FPR(pred_df, 'true_values', 'pred_probs', prob) for prob in thresholds]\n",
    "# Plot ROC curve.\n",
    "plt.plot(fpr_values, # False Positive Rate on X-axis\n",
    "        tpr_values, # True Positive Rate on Y-axis\n",
    "        label='ROC Curve', color = 'g')\n",
    "# Plot baseline. (Perfect overlap between the two populations.)\n",
    "plt.plot(np.linspace(0, 1, 200),\n",
    "        np.linspace(0, 1, 200),\n",
    "        label='baseline',\n",
    "        linestyle='--')\n",
    "#plots lines to connect graph to origin and 1,1 - the graph appears awkward otherwise.\n",
    "\n",
    "#Calculate AUC score to output in 'return' tuple and print on graph\n",
    "auc_score = round(roc_auc_score(pred_df[\"true_values\"], pred_df[\"pred_probs\"]),3)\n",
    "# Label axes.\n",
    "plt.title(f'ROC Curve with AUC = {auc_score}', fontsize=22)\n",
    "plt.ylabel('Sensitivity', fontsize=18)\n",
    "plt.xlabel('1 - Specificity', fontsize=18)\n",
    "# Create legend.\n",
    "plt.legend(fontsize=16);"
   ]
  },
  {
   "cell_type": "markdown",
   "metadata": {},
   "source": [
    "### GridSearchCV using Naive Bayes\n",
    "We are doing gridsearch on Naive Bayes which is another classification algorithm which assumes that a particular feature in a class is unrelated to the presence of another value."
   ]
  },
  {
   "cell_type": "markdown",
   "metadata": {},
   "source": [
    "### Pipeline\n",
    "_______\n",
    "Our pipeline will consist of two stages:\n",
    "1. An instance of CountVectorizer\n",
    "2. Naive Bayes instance"
   ]
  },
  {
   "cell_type": "code",
   "execution_count": 22,
   "metadata": {},
   "outputs": [],
   "source": [
    "# Instantiating CountVectorizer and multinomial Naive Bayes\n",
    "pipe = Pipeline([('cvec', CountVectorizer(stop_words=['diet','exercise'])),\n",
    "                ('nb', MultinomialNB())\n",
    "                ])"
   ]
  },
  {
   "cell_type": "markdown",
   "metadata": {},
   "source": [
    "Since the word count in countvectorizer gives out different number of counts, we need to use multinomial Naive Baes than the rest."
   ]
  },
  {
   "cell_type": "code",
   "execution_count": 23,
   "metadata": {},
   "outputs": [
    {
     "name": "stdout",
     "output_type": "stream",
     "text": [
      "0.9026217228464419\n"
     ]
    },
    {
     "data": {
      "text/plain": [
       "{'cvec__max_df': 0.9,\n",
       " 'cvec__max_features': 2500,\n",
       " 'cvec__min_df': 2,\n",
       " 'cvec__ngram_range': (1, 1)}"
      ]
     },
     "execution_count": 23,
     "metadata": {},
     "output_type": "execute_result"
    }
   ],
   "source": [
    "# checking for best hyperparameters using gridsearch\n",
    "pipe_params = {\n",
    "    \n",
    "    'cvec__max_features': [2500, 3000, 3500],\n",
    "    'cvec__min_df': [2,3],\n",
    "    'cvec__max_df': [.9, .95],\n",
    "    'cvec__ngram_range': [(1,1),(1,2)]\n",
    "}\n",
    "gs = GridSearchCV(pipe, param_grid = pipe_params, cv = 10)\n",
    "gs.fit(X_train, y_train)\n",
    "print(gs.best_score_)\n",
    "gs.best_params_"
   ]
  },
  {
   "cell_type": "code",
   "execution_count": 24,
   "metadata": {},
   "outputs": [
    {
     "data": {
      "text/plain": [
       "0.9447565543071161"
      ]
     },
     "execution_count": 24,
     "metadata": {},
     "output_type": "execute_result"
    }
   ],
   "source": [
    "#Checking score on train data\n",
    "gs.score(X_train, y_train)"
   ]
  },
  {
   "cell_type": "code",
   "execution_count": 25,
   "metadata": {},
   "outputs": [
    {
     "data": {
      "text/plain": [
       "0.876750700280112"
      ]
     },
     "execution_count": 25,
     "metadata": {},
     "output_type": "execute_result"
    }
   ],
   "source": [
    "# checking score on test data\n",
    "gs.score(X_val, y_val)"
   ]
  },
  {
   "cell_type": "code",
   "execution_count": 26,
   "metadata": {},
   "outputs": [
    {
     "data": {
      "text/plain": [
       "1.8962957960895437e-36"
      ]
     },
     "execution_count": 26,
     "metadata": {},
     "output_type": "execute_result"
    }
   ],
   "source": [
    "#Checking proba\n",
    "gs.predict_proba(X_val)[1][1]"
   ]
  },
  {
   "cell_type": "code",
   "execution_count": 27,
   "metadata": {},
   "outputs": [
    {
     "data": {
      "text/html": [
       "<div>\n",
       "<style scoped>\n",
       "    .dataframe tbody tr th:only-of-type {\n",
       "        vertical-align: middle;\n",
       "    }\n",
       "\n",
       "    .dataframe tbody tr th {\n",
       "        vertical-align: top;\n",
       "    }\n",
       "\n",
       "    .dataframe thead th {\n",
       "        text-align: right;\n",
       "    }\n",
       "</style>\n",
       "<table border=\"1\" class=\"dataframe\">\n",
       "  <thead>\n",
       "    <tr style=\"text-align: right;\">\n",
       "      <th></th>\n",
       "      <th>true_values</th>\n",
       "      <th>pred_probs</th>\n",
       "    </tr>\n",
       "  </thead>\n",
       "  <tbody>\n",
       "    <tr>\n",
       "      <th>705</th>\n",
       "      <td>0</td>\n",
       "      <td>1.283843e-30</td>\n",
       "    </tr>\n",
       "    <tr>\n",
       "      <th>56</th>\n",
       "      <td>0</td>\n",
       "      <td>1.896296e-36</td>\n",
       "    </tr>\n",
       "    <tr>\n",
       "      <th>394</th>\n",
       "      <td>0</td>\n",
       "      <td>7.122355e-09</td>\n",
       "    </tr>\n",
       "    <tr>\n",
       "      <th>793</th>\n",
       "      <td>0</td>\n",
       "      <td>2.255970e-02</td>\n",
       "    </tr>\n",
       "    <tr>\n",
       "      <th>1758</th>\n",
       "      <td>1</td>\n",
       "      <td>9.999995e-01</td>\n",
       "    </tr>\n",
       "  </tbody>\n",
       "</table>\n",
       "</div>"
      ],
      "text/plain": [
       "      true_values    pred_probs\n",
       "705             0  1.283843e-30\n",
       "56              0  1.896296e-36\n",
       "394             0  7.122355e-09\n",
       "793             0  2.255970e-02\n",
       "1758            1  9.999995e-01"
      ]
     },
     "execution_count": 27,
     "metadata": {},
     "output_type": "execute_result"
    }
   ],
   "source": [
    "# Let's create a dataframe called pred_df that contains:\n",
    "# 1. The list of true values of our test set.\n",
    "# 2. The list of predicted probabilities based on our model\n",
    "\n",
    "\n",
    "pred_proba = [i[1] for i in gs.predict_proba(X_val)]\n",
    "\n",
    "pred_df = pd.DataFrame({'true_values' :y_val,\n",
    "                       'pred_probs' :pred_proba})\n",
    "pred_df.head(5)"
   ]
  },
  {
   "cell_type": "code",
   "execution_count": 28,
   "metadata": {},
   "outputs": [
    {
     "data": {
      "image/png": "[encoded data removed]",
      "text/plain": [
       "<Figure size 720x504 with 1 Axes>"
      ]
     },
     "metadata": {
      "needs_background": "light"
     },
     "output_type": "display_data"
    }
   ],
   "source": [
    "# Create Figure\n",
    "plt.figure(figsize = (10,7))\n",
    "\n",
    "# Create histogram of Observations\n",
    "plt.hist(pred_df[pred_df['true_values'] == 0]['pred_probs'],\n",
    "         bins = 25,\n",
    "        color ='b',\n",
    "        alpha = 0.6,\n",
    "        label = 'Outcome= diet')\n",
    "plt.hist(pred_df[pred_df['true_values'] == 1]['pred_probs'],\n",
    "         bins = 25,\n",
    "        color ='orange',\n",
    "        alpha = 0.6,\n",
    "        label = 'Outcome= exercise')\n",
    "\n",
    "# Label axes\n",
    "plt.title('Distribution of exercise and diet', fontsize=22)\n",
    "plt.ylabel('Frequency', fontsize=18)\n",
    "plt.xlabel('Predicted Probability of exercise and diet', fontsize=18)\n",
    "\n",
    "# Create Legend\n",
    "plt.legend(fontsize = 15);"
   ]
  },
  {
   "cell_type": "code",
   "execution_count": 29,
   "metadata": {},
   "outputs": [],
   "source": [
    "#Finds true positive rate\n",
    "def TPR(df, true_col, pred_prob_col, threshold):\n",
    "   true_positive = df[(df[true_col] == 1) & (df[pred_prob_col] >= threshold)].shape[0]\n",
    "   false_negative = df[(df[true_col] == 1) & (df[pred_prob_col] < threshold)].shape[0]\n",
    "   return true_positive / (true_positive + false_negative)\n",
    "\n",
    "# Define function to calculate 1 - specificity. (False positive rate.)\n",
    "def FPR(df, true_col, pred_prob_col, threshold):\n",
    "   true_negative = df[(df[true_col] == 0) & (df[pred_prob_col] <= threshold)].shape[0]\n",
    "   false_positive = df[(df[true_col] == 0) & (df[pred_prob_col] > threshold)].shape[0]\n",
    "   return 1 - (true_negative / (true_negative + false_positive))"
   ]
  },
  {
   "cell_type": "code",
   "execution_count": 30,
   "metadata": {},
   "outputs": [
    {
     "data": {
      "image/png": "[encoded data removed]",
      "text/plain": [
       "<Figure size 720x504 with 1 Axes>"
      ]
     },
     "metadata": {
      "needs_background": "light"
     },
     "output_type": "display_data"
    }
   ],
   "source": [
    "# Create figure.\n",
    "plt.figure(figsize = (10,7))\n",
    "# Create threshold values.\n",
    "thresholds = np.linspace(0, 1, 200)\n",
    "tpr_values = [TPR(pred_df, 'true_values', 'pred_probs', prob) for prob in thresholds]\n",
    "fpr_values = [FPR(pred_df, 'true_values', 'pred_probs', prob) for prob in thresholds]\n",
    "# Plot ROC curve.\n",
    "plt.plot(fpr_values, # False Positive Rate on X-axis\n",
    "        tpr_values, # True Positive Rate on Y-axis\n",
    "        label='ROC Curve', color = 'g')\n",
    "# Plot baseline. (Perfect overlap between the two populations.)\n",
    "plt.plot(np.linspace(0, 1, 200),\n",
    "        np.linspace(0, 1, 200),\n",
    "        label='baseline',\n",
    "        linestyle='--')\n",
    "#plots lines to connect graph to origin and 1,1 - the graph appears awkward otherwise.\n",
    "\n",
    "#Calculate AUC score to output in 'return' tuple and print on graph\n",
    "auc_score = round(roc_auc_score(pred_df[\"true_values\"], pred_df[\"pred_probs\"]),3)\n",
    "# Label axes.\n",
    "plt.title(f'ROC Curve with AUC = {auc_score}', fontsize=22)\n",
    "plt.ylabel('Sensitivity', fontsize=18)\n",
    "plt.xlabel('1 - Specificity', fontsize=18)\n",
    "# Create legend.\n",
    "plt.legend(fontsize=16);"
   ]
  },
  {
   "cell_type": "markdown",
   "metadata": {},
   "source": [
    "### Modelling on clean_selftext_lemmat using TF-IDF\n",
    "\n",
    "Term Frequency-Inverse Document Frequency is another common algorithm to transform text into meaningful representation of number.\n",
    "\n",
    "So, we will transform text into numbers using TF-IDF and then do logistic regression and Multinomial Naive Bayes to predict the train and test data."
   ]
  },
  {
   "cell_type": "code",
   "execution_count": 31,
   "metadata": {},
   "outputs": [],
   "source": [
    "# Fit the transformer\n",
    "tvec =TfidfVectorizer()"
   ]
  },
  {
   "cell_type": "markdown",
   "metadata": {},
   "source": [
    "### Using Logistic Regression\n",
    "in pipeline , tf-idf followed by logistic regression()"
   ]
  },
  {
   "cell_type": "code",
   "execution_count": 32,
   "metadata": {},
   "outputs": [],
   "source": [
    "pipe = Pipeline([\n",
    "    ('tvec', TfidfVectorizer()),\n",
    "    ('lr', LogisticRegression())\n",
    "])"
   ]
  },
  {
   "cell_type": "code",
   "execution_count": 33,
   "metadata": {},
   "outputs": [
    {
     "name": "stderr",
     "output_type": "stream",
     "text": [
      "C:\\Users\\sapna\\Anaconda3\\lib\\site-packages\\sklearn\\linear_model\\logistic.py:433: FutureWarning: Default solver will be changed to 'lbfgs' in 0.22. Specify a solver to silence this warning.\n",
      "  FutureWarning)\n"
     ]
    },
    {
     "name": "stdout",
     "output_type": "stream",
     "text": [
      "0.9101123595505618\n"
     ]
    },
    {
     "data": {
      "text/plain": [
       "{'tvec__max_df': 0.9,\n",
       " 'tvec__max_features': 3000,\n",
       " 'tvec__min_df': 2,\n",
       " 'tvec__ngram_range': (1, 2)}"
      ]
     },
     "execution_count": 33,
     "metadata": {},
     "output_type": "execute_result"
    }
   ],
   "source": [
    "# checking for best hyperparameters using logistic regression\n",
    "pipe_params = {\n",
    "    'tvec__max_features': [2500, 3000, 3500],\n",
    "    'tvec__min_df': [2, 3],\n",
    "    'tvec__max_df': [.9, .95],\n",
    "    'tvec__ngram_range': [(1,1), (1,2)]\n",
    "}\n",
    "gs = GridSearchCV(pipe, param_grid=pipe_params, cv=10)\n",
    "gs.fit(X_train, y_train)\n",
    "print(gs.best_score_)\n",
    "gs.best_params_"
   ]
  },
  {
   "cell_type": "code",
   "execution_count": 34,
   "metadata": {},
   "outputs": [
    {
     "data": {
      "text/plain": [
       "0.9737827715355806"
      ]
     },
     "execution_count": 34,
     "metadata": {},
     "output_type": "execute_result"
    }
   ],
   "source": [
    "#Checking train data\n",
    "gs.score(X_train, y_train)"
   ]
  },
  {
   "cell_type": "code",
   "execution_count": 35,
   "metadata": {
    "scrolled": false
   },
   "outputs": [
    {
     "data": {
      "text/plain": [
       "0.927170868347339"
      ]
     },
     "execution_count": 35,
     "metadata": {},
     "output_type": "execute_result"
    }
   ],
   "source": [
    "# checking on test data\n",
    "gs.score(X_val, y_val)"
   ]
  },
  {
   "cell_type": "code",
   "execution_count": 36,
   "metadata": {},
   "outputs": [
    {
     "data": {
      "text/plain": [
       "0.11704682975314071"
      ]
     },
     "execution_count": 36,
     "metadata": {},
     "output_type": "execute_result"
    }
   ],
   "source": [
    "#Checking proba\n",
    "gs.predict_proba(X_val)[1][1]"
   ]
  },
  {
   "cell_type": "code",
   "execution_count": 37,
   "metadata": {},
   "outputs": [
    {
     "data": {
      "text/html": [
       "<div>\n",
       "<style scoped>\n",
       "    .dataframe tbody tr th:only-of-type {\n",
       "        vertical-align: middle;\n",
       "    }\n",
       "\n",
       "    .dataframe tbody tr th {\n",
       "        vertical-align: top;\n",
       "    }\n",
       "\n",
       "    .dataframe thead th {\n",
       "        text-align: right;\n",
       "    }\n",
       "</style>\n",
       "<table border=\"1\" class=\"dataframe\">\n",
       "  <thead>\n",
       "    <tr style=\"text-align: right;\">\n",
       "      <th></th>\n",
       "      <th>true_values</th>\n",
       "      <th>pred_probs</th>\n",
       "    </tr>\n",
       "  </thead>\n",
       "  <tbody>\n",
       "    <tr>\n",
       "      <th>705</th>\n",
       "      <td>0</td>\n",
       "      <td>0.054364</td>\n",
       "    </tr>\n",
       "    <tr>\n",
       "      <th>56</th>\n",
       "      <td>0</td>\n",
       "      <td>0.117047</td>\n",
       "    </tr>\n",
       "    <tr>\n",
       "      <th>394</th>\n",
       "      <td>0</td>\n",
       "      <td>0.402164</td>\n",
       "    </tr>\n",
       "    <tr>\n",
       "      <th>793</th>\n",
       "      <td>0</td>\n",
       "      <td>0.244960</td>\n",
       "    </tr>\n",
       "    <tr>\n",
       "      <th>1758</th>\n",
       "      <td>1</td>\n",
       "      <td>0.805511</td>\n",
       "    </tr>\n",
       "  </tbody>\n",
       "</table>\n",
       "</div>"
      ],
      "text/plain": [
       "      true_values  pred_probs\n",
       "705             0    0.054364\n",
       "56              0    0.117047\n",
       "394             0    0.402164\n",
       "793             0    0.244960\n",
       "1758            1    0.805511"
      ]
     },
     "execution_count": 37,
     "metadata": {},
     "output_type": "execute_result"
    }
   ],
   "source": [
    "# Let's create a dataframe called pred_df that contains:\n",
    "# 1. The list of true values of our test set.\n",
    "# 2. The list of predicted probabilities based on our model\n",
    "\n",
    "\n",
    "pred_proba = [i[1] for i in gs.predict_proba(X_val)]\n",
    "\n",
    "pred_df = pd.DataFrame({'true_values' :y_val,\n",
    "                       'pred_probs' :pred_proba})\n",
    "pred_df.head(5)"
   ]
  },
  {
   "cell_type": "code",
   "execution_count": 38,
   "metadata": {},
   "outputs": [
    {
     "data": {
      "image/png": "[encoded data removed]",
      "text/plain": [
       "<Figure size 720x504 with 1 Axes>"
      ]
     },
     "metadata": {
      "needs_background": "light"
     },
     "output_type": "display_data"
    }
   ],
   "source": [
    "# Create Figure\n",
    "plt.figure(figsize = (10,7))\n",
    "\n",
    "# Create histogram of Observations\n",
    "plt.hist(pred_df[pred_df['true_values'] == 0]['pred_probs'],\n",
    "         bins = 25,\n",
    "        color ='b',\n",
    "        alpha = 0.6,\n",
    "        label = 'Outcome= diet')\n",
    "plt.hist(pred_df[pred_df['true_values'] == 1]['pred_probs'],\n",
    "         bins = 25,\n",
    "        color ='orange',\n",
    "        alpha = 0.6,\n",
    "        label = 'Outcome= exercise')\n",
    "\n",
    "# Label axes\n",
    "plt.title('Distribution of exercise and diet', fontsize=22)\n",
    "plt.ylabel('Frequency', fontsize=18)\n",
    "plt.xlabel('Predicted Probability of exercise and diet', fontsize=18)\n",
    "\n",
    "# Create Legend\n",
    "plt.legend(fontsize = 15);"
   ]
  },
  {
   "cell_type": "code",
   "execution_count": 39,
   "metadata": {},
   "outputs": [],
   "source": [
    "#Finds true positive rate\n",
    "def TPR(df, true_col, pred_prob_col, threshold):\n",
    "   true_positive = df[(df[true_col] == 1) & (df[pred_prob_col] >= threshold)].shape[0]\n",
    "   false_negative = df[(df[true_col] == 1) & (df[pred_prob_col] < threshold)].shape[0]\n",
    "   return true_positive / (true_positive + false_negative)\n",
    "\n",
    "# Define function to calculate 1 - specificity. (False positive rate.)\n",
    "def FPR(df, true_col, pred_prob_col, threshold):\n",
    "   true_negative = df[(df[true_col] == 0) & (df[pred_prob_col] <= threshold)].shape[0]\n",
    "   false_positive = df[(df[true_col] == 0) & (df[pred_prob_col] > threshold)].shape[0]\n",
    "   return 1 - (true_negative / (true_negative + false_positive))"
   ]
  },
  {
   "cell_type": "markdown",
   "metadata": {},
   "source": [
    "## Creating ROC Curve"
   ]
  },
  {
   "cell_type": "code",
   "execution_count": 40,
   "metadata": {},
   "outputs": [
    {
     "data": {
      "image/png": "[encoded data removed]",
      "text/plain": [
       "<Figure size 720x504 with 1 Axes>"
      ]
     },
     "metadata": {
      "needs_background": "light"
     },
     "output_type": "display_data"
    }
   ],
   "source": [
    "# Create figure.\n",
    "plt.figure(figsize = (10,7))\n",
    "# Create threshold values.\n",
    "thresholds = np.linspace(0, 1, 200)\n",
    "tpr_values = [TPR(pred_df, 'true_values', 'pred_probs', prob) for prob in thresholds]\n",
    "fpr_values = [FPR(pred_df, 'true_values', 'pred_probs', prob) for prob in thresholds]\n",
    "# Plot ROC curve.\n",
    "plt.plot(fpr_values, # False Positive Rate on X-axis\n",
    "        tpr_values, # True Positive Rate on Y-axis\n",
    "        label='ROC Curve', color = 'g')\n",
    "# Plot baseline. (Perfect overlap between the two populations.)\n",
    "plt.plot(np.linspace(0, 1, 200),\n",
    "        np.linspace(0, 1, 200),\n",
    "        label='baseline',\n",
    "        linestyle='--')\n",
    "#plots lines to connect graph to origin and 1,1 - the graph appears awkward otherwise.\n",
    "\n",
    "#Calculate AUC score to output in 'return' tuple and print on graph\n",
    "auc_score = round(roc_auc_score(pred_df[\"true_values\"], pred_df[\"pred_probs\"]),3)\n",
    "# Label axes.\n",
    "plt.title(f'ROC Curve with AUC = {auc_score}', fontsize=22)\n",
    "plt.ylabel('Sensitivity', fontsize=18)\n",
    "plt.xlabel('1 - Specificity', fontsize=18)\n",
    "# Create legend.\n",
    "plt.legend(fontsize=16);"
   ]
  },
  {
   "cell_type": "markdown",
   "metadata": {},
   "source": [
    "We can see the ROC Curve is pretty well with AUC = 0.974\n",
    "AUC provides an aggregate measure of performance across all possible classification thresholds"
   ]
  },
  {
   "cell_type": "markdown",
   "metadata": {},
   "source": [
    "### Using Naives Bayes\n",
    "In Pipeline, tf-idf followed by multinomial NB"
   ]
  },
  {
   "cell_type": "code",
   "execution_count": 41,
   "metadata": {},
   "outputs": [],
   "source": [
    "pipe = Pipeline([('tvec', TfidfVectorizer(stop_words=['diet','exercise'])),\n",
    "                ('nb', MultinomialNB())\n",
    "                ])"
   ]
  },
  {
   "cell_type": "code",
   "execution_count": 42,
   "metadata": {},
   "outputs": [
    {
     "name": "stdout",
     "output_type": "stream",
     "text": [
      "0.8941947565543071\n"
     ]
    },
    {
     "data": {
      "text/plain": [
       "{'tvec__max_df': 0.9,\n",
       " 'tvec__max_features': 3000,\n",
       " 'tvec__min_df': 3,\n",
       " 'tvec__ngram_range': (1, 2)}"
      ]
     },
     "execution_count": 42,
     "metadata": {},
     "output_type": "execute_result"
    }
   ],
   "source": [
    "pipe_params = {\n",
    "    \n",
    "    'tvec__max_features': [2500, 3000, 3500],\n",
    "    'tvec__min_df': [2,3],\n",
    "    'tvec__max_df': [.9, .95],\n",
    "    'tvec__ngram_range': [(1,1),(1,2)]\n",
    "}\n",
    "gs = GridSearchCV(pipe, param_grid = pipe_params, cv = 10)\n",
    "gs.fit(X_train, y_train)\n",
    "print(gs.best_score_)\n",
    "gs.best_params_"
   ]
  },
  {
   "cell_type": "code",
   "execution_count": 43,
   "metadata": {},
   "outputs": [
    {
     "data": {
      "text/plain": [
       "0.9597378277153558"
      ]
     },
     "execution_count": 43,
     "metadata": {},
     "output_type": "execute_result"
    }
   ],
   "source": [
    "gs.score(X_train, y_train)"
   ]
  },
  {
   "cell_type": "code",
   "execution_count": 44,
   "metadata": {
    "scrolled": true
   },
   "outputs": [
    {
     "data": {
      "text/plain": [
       "0.8683473389355743"
      ]
     },
     "execution_count": 44,
     "metadata": {},
     "output_type": "execute_result"
    }
   ],
   "source": [
    "gs.score(X_val, y_val)"
   ]
  },
  {
   "cell_type": "code",
   "execution_count": 45,
   "metadata": {
    "scrolled": true
   },
   "outputs": [
    {
     "data": {
      "text/html": [
       "<div>\n",
       "<style scoped>\n",
       "    .dataframe tbody tr th:only-of-type {\n",
       "        vertical-align: middle;\n",
       "    }\n",
       "\n",
       "    .dataframe tbody tr th {\n",
       "        vertical-align: top;\n",
       "    }\n",
       "\n",
       "    .dataframe thead th {\n",
       "        text-align: right;\n",
       "    }\n",
       "</style>\n",
       "<table border=\"1\" class=\"dataframe\">\n",
       "  <thead>\n",
       "    <tr style=\"text-align: right;\">\n",
       "      <th></th>\n",
       "      <th>true_values</th>\n",
       "      <th>pred_probs</th>\n",
       "    </tr>\n",
       "  </thead>\n",
       "  <tbody>\n",
       "    <tr>\n",
       "      <th>705</th>\n",
       "      <td>0</td>\n",
       "      <td>0.014443</td>\n",
       "    </tr>\n",
       "    <tr>\n",
       "      <th>56</th>\n",
       "      <td>0</td>\n",
       "      <td>0.172729</td>\n",
       "    </tr>\n",
       "    <tr>\n",
       "      <th>394</th>\n",
       "      <td>0</td>\n",
       "      <td>0.145079</td>\n",
       "    </tr>\n",
       "    <tr>\n",
       "      <th>793</th>\n",
       "      <td>0</td>\n",
       "      <td>0.234004</td>\n",
       "    </tr>\n",
       "    <tr>\n",
       "      <th>1758</th>\n",
       "      <td>1</td>\n",
       "      <td>0.952241</td>\n",
       "    </tr>\n",
       "  </tbody>\n",
       "</table>\n",
       "</div>"
      ],
      "text/plain": [
       "      true_values  pred_probs\n",
       "705             0    0.014443\n",
       "56              0    0.172729\n",
       "394             0    0.145079\n",
       "793             0    0.234004\n",
       "1758            1    0.952241"
      ]
     },
     "execution_count": 45,
     "metadata": {},
     "output_type": "execute_result"
    }
   ],
   "source": [
    "pred_proba = [i[1] for i in gs.predict_proba(X_val)]\n",
    "\n",
    "pred_df = pd.DataFrame({'true_values' :y_val,\n",
    "                       'pred_probs' :pred_proba})\n",
    "pred_df.head(5)"
   ]
  },
  {
   "cell_type": "code",
   "execution_count": 46,
   "metadata": {},
   "outputs": [
    {
     "data": {
      "image/png": "[encoded data removed]",
      "text/plain": [
       "<Figure size 720x504 with 1 Axes>"
      ]
     },
     "metadata": {
      "needs_background": "light"
     },
     "output_type": "display_data"
    }
   ],
   "source": [
    "# Create Figure\n",
    "plt.figure(figsize = (10,7))\n",
    "\n",
    "# Create histogram of Observations\n",
    "plt.hist(pred_df[pred_df['true_values'] == 0]['pred_probs'],\n",
    "         bins = 25,\n",
    "        color ='b',\n",
    "        alpha = 0.6,\n",
    "        label = 'Outcome= diet')\n",
    "plt.hist(pred_df[pred_df['true_values'] == 1]['pred_probs'],\n",
    "         bins = 25,\n",
    "        color ='orange',\n",
    "        alpha = 0.6,\n",
    "        label = 'Outcome= exercise')\n",
    "\n",
    "# Label axes\n",
    "plt.title('Distribution of exercise and diet', fontsize=22)\n",
    "plt.ylabel('Frequency', fontsize=18)\n",
    "plt.xlabel('Predicted Probability of exercise and diet', fontsize=18)\n",
    "\n",
    "# Create Legend\n",
    "plt.legend(fontsize = 15);"
   ]
  },
  {
   "cell_type": "code",
   "execution_count": 47,
   "metadata": {},
   "outputs": [
    {
     "data": {
      "image/png": "[encoded data removed]",
      "text/plain": [
       "<Figure size 720x504 with 1 Axes>"
      ]
     },
     "metadata": {
      "needs_background": "light"
     },
     "output_type": "display_data"
    }
   ],
   "source": [
    "# Create figure.\n",
    "plt.figure(figsize = (10,7))\n",
    "# Create threshold values.\n",
    "thresholds = np.linspace(0, 1, 200)\n",
    "tpr_values = [TPR(pred_df, 'true_values', 'pred_probs', prob) for prob in thresholds]\n",
    "fpr_values = [FPR(pred_df, 'true_values', 'pred_probs', prob) for prob in thresholds]\n",
    "# Plot ROC curve.\n",
    "plt.plot(fpr_values, # False Positive Rate on X-axis\n",
    "        tpr_values, # True Positive Rate on Y-axis\n",
    "        label='ROC Curve', color = 'g')\n",
    "# Plot baseline. (Perfect overlap between the two populations.)\n",
    "plt.plot(np.linspace(0, 1, 200),\n",
    "        np.linspace(0, 1, 200),\n",
    "        label='baseline',\n",
    "        linestyle='--')\n",
    "#plots lines to connect graph to origin and 1,1 - the graph appears awkward otherwise.\n",
    "\n",
    "#Calculate AUC score to output in 'return' tuple and print on graph\n",
    "auc_score = round(roc_auc_score(pred_df[\"true_values\"], pred_df[\"pred_probs\"]),3)\n",
    "# Label axes.\n",
    "plt.title(f'ROC Curve with AUC = {auc_score}', fontsize=22)\n",
    "plt.ylabel('Sensitivity', fontsize=18)\n",
    "plt.xlabel('1 - Specificity', fontsize=18)\n",
    "# Create legend.\n",
    "plt.legend(fontsize=16);"
   ]
  },
  {
   "cell_type": "markdown",
   "metadata": {},
   "source": [
    " ### Insights :\n",
    " \n",
    " ON selftext_lemmat column\n",
    " 1. CountVectorizer\n",
    "     Logistic Regression Score : 84.31%\n",
    "     AUC : o.933\n",
    "     Naive Bayes Score : 87.67%\n",
    "     AUC : 0.947\n",
    " \n",
    " 2. TF-IDF\n",
    "     Logistic Regression Score : 92.71%\n",
    "     AUC:0.977\n",
    "     Naive Bayes Score :86.83%\n",
    "     AUC:0.956\n",
    "     \n",
    "     From the above data, I can infer that the score and AUC score of TF-IDF, Logistic Regression is doing better, I will use the optimal parameters of the same.\n",
    "     \n",
    "     'tvec__max_df': 0.9,\n",
    "     'tvec__max_features': 3000,\n",
    "     'tvec__min_df': 2,\n",
    "     'tvec__ngram_range': (1, 2)}\n",
    " \n",
    "  "
   ]
  },
  {
   "cell_type": "markdown",
   "metadata": {},
   "source": [
    "## Predictions on test data\n",
    "we will check the score on our test data."
   ]
  },
  {
   "cell_type": "code",
   "execution_count": 48,
   "metadata": {},
   "outputs": [],
   "source": [
    "X_test = test_df['clean_selftext_lemmat']\n",
    "y_test= test_df['label']"
   ]
  },
  {
   "cell_type": "code",
   "execution_count": 49,
   "metadata": {},
   "outputs": [
    {
     "data": {
      "text/plain": [
       "1225    recently put together ultimate library bicep w...\n",
       "111     got different answer google one even said need...\n",
       "557     provide essential foodgroups eat everyday mega...\n",
       "529     lose weight quite simple eat le eating calorie...\n",
       "1313    started work past 3 week definitely gotten res...\n",
       "Name: clean_selftext_lemmat, dtype: object"
      ]
     },
     "execution_count": 49,
     "metadata": {},
     "output_type": "execute_result"
    }
   ],
   "source": [
    "X_test.head()"
   ]
  },
  {
   "cell_type": "code",
   "execution_count": 50,
   "metadata": {},
   "outputs": [
    {
     "data": {
      "text/plain": [
       "(475,)"
      ]
     },
     "execution_count": 50,
     "metadata": {},
     "output_type": "execute_result"
    }
   ],
   "source": [
    "X_test.shape"
   ]
  },
  {
   "cell_type": "code",
   "execution_count": 51,
   "metadata": {},
   "outputs": [
    {
     "data": {
      "text/plain": [
       "(475,)"
      ]
     },
     "execution_count": 51,
     "metadata": {},
     "output_type": "execute_result"
    }
   ],
   "source": [
    "y_test.shape"
   ]
  },
  {
   "cell_type": "markdown",
   "metadata": {},
   "source": [
    "### Instantiating Tf-idf using optimal hyperparameters"
   ]
  },
  {
   "cell_type": "code",
   "execution_count": 52,
   "metadata": {},
   "outputs": [],
   "source": [
    "tvec = TfidfVectorizer(stop_words=['diet','exercise'],max_df= 0.9, max_features= 3000, min_df= 2, ngram_range =(1, 2))\n",
    "\n",
    "                "
   ]
  },
  {
   "cell_type": "code",
   "execution_count": 53,
   "metadata": {},
   "outputs": [],
   "source": [
    "lr = LogisticRegression()"
   ]
  },
  {
   "cell_type": "code",
   "execution_count": 54,
   "metadata": {},
   "outputs": [],
   "source": [
    "X_train_tvec = tvec.fit_transform(X_train)"
   ]
  },
  {
   "cell_type": "code",
   "execution_count": 55,
   "metadata": {},
   "outputs": [
    {
     "name": "stderr",
     "output_type": "stream",
     "text": [
      "C:\\Users\\sapna\\Anaconda3\\lib\\site-packages\\sklearn\\linear_model\\logistic.py:433: FutureWarning: Default solver will be changed to 'lbfgs' in 0.22. Specify a solver to silence this warning.\n",
      "  FutureWarning)\n"
     ]
    }
   ],
   "source": [
    "\n",
    "model_2 = lr.fit(X_train_tvec,y_train)\n",
    "\n",
    "\n",
    "                         "
   ]
  },
  {
   "cell_type": "code",
   "execution_count": 56,
   "metadata": {},
   "outputs": [],
   "source": [
    "X_test_tvec = tvec.transform(X_test)"
   ]
  },
  {
   "cell_type": "code",
   "execution_count": 57,
   "metadata": {},
   "outputs": [],
   "source": [
    "# Generate our predictions\n",
    "predictions = model_2.predict(X_test_tvec)\n"
   ]
  },
  {
   "cell_type": "code",
   "execution_count": 58,
   "metadata": {},
   "outputs": [
    {
     "data": {
      "text/plain": [
       "0.8947368421052632"
      ]
     },
     "execution_count": 58,
     "metadata": {},
     "output_type": "execute_result"
    }
   ],
   "source": [
    "# Score our model on the testing data\n",
    "test_score = model_2.score(X_test_tvec, y_test)\n",
    "test_score"
   ]
  },
  {
   "cell_type": "markdown",
   "metadata": {},
   "source": [
    "Our trained model is predicting well test data with 89.47% .\n",
    "\n",
    "We can improve the score by scrapping more posts and by tuning more hyper parameters.\n"
   ]
  },
  {
   "cell_type": "markdown",
   "metadata": {},
   "source": [
    "## Confusion Matrix"
   ]
  },
  {
   "cell_type": "markdown",
   "metadata": {},
   "source": [
    "It's an error matrix that allows visualisation of the performance of a supervised algorithm. So, let's see the performance of our model."
   ]
  },
  {
   "cell_type": "code",
   "execution_count": 59,
   "metadata": {},
   "outputs": [
    {
     "data": {
      "text/plain": [
       "array([[220,  27],\n",
       "       [ 23, 205]], dtype=int64)"
      ]
     },
     "execution_count": 59,
     "metadata": {},
     "output_type": "execute_result"
    }
   ],
   "source": [
    "cm= confusion_matrix(y_test, predictions)\n",
    "cm"
   ]
  },
  {
   "cell_type": "code",
   "execution_count": 60,
   "metadata": {},
   "outputs": [
    {
     "data": {
      "text/html": [
       "<div>\n",
       "<style scoped>\n",
       "    .dataframe tbody tr th:only-of-type {\n",
       "        vertical-align: middle;\n",
       "    }\n",
       "\n",
       "    .dataframe tbody tr th {\n",
       "        vertical-align: top;\n",
       "    }\n",
       "\n",
       "    .dataframe thead th {\n",
       "        text-align: right;\n",
       "    }\n",
       "</style>\n",
       "<table border=\"1\" class=\"dataframe\">\n",
       "  <thead>\n",
       "    <tr style=\"text-align: right;\">\n",
       "      <th></th>\n",
       "      <th>pred diet(tn)</th>\n",
       "      <th>pred exercise(tp)</th>\n",
       "    </tr>\n",
       "  </thead>\n",
       "  <tbody>\n",
       "    <tr>\n",
       "      <th>actual diet(fn)</th>\n",
       "      <td>220</td>\n",
       "      <td>27</td>\n",
       "    </tr>\n",
       "    <tr>\n",
       "      <th>actual exercise(fp)</th>\n",
       "      <td>23</td>\n",
       "      <td>205</td>\n",
       "    </tr>\n",
       "  </tbody>\n",
       "</table>\n",
       "</div>"
      ],
      "text/plain": [
       "                     pred diet(tn)  pred exercise(tp)\n",
       "actual diet(fn)                220                 27\n",
       "actual exercise(fp)             23                205"
      ]
     },
     "execution_count": 60,
     "metadata": {},
     "output_type": "execute_result"
    }
   ],
   "source": [
    "# changing to dataframe to see in more nicer way\n",
    "cm_df = pd.DataFrame(cm, columns=['pred diet(tn)', 'pred exercise(tp)'], index=['actual diet(fn)', 'actual exercise(fp)'])\n",
    "cm_df\n"
   ]
  },
  {
   "cell_type": "markdown",
   "metadata": {},
   "source": [
    "We can see from above data that the model predicted diet(tn) more than predicted exercise(tp) and there are some errors too.\n",
    "Let's see the specificity and sensitivity of our model"
   ]
  },
  {
   "cell_type": "code",
   "execution_count": 61,
   "metadata": {},
   "outputs": [],
   "source": [
    "# Save TN/FP/FN/TP values\n",
    "tn, fp, fn, tp = confusion_matrix(y_test, predictions).ravel()"
   ]
  },
  {
   "cell_type": "code",
   "execution_count": 62,
   "metadata": {},
   "outputs": [
    {
     "name": "stdout",
     "output_type": "stream",
     "text": [
      " Specificity: 0.8907\n"
     ]
    }
   ],
   "source": [
    "# What is the specifity of our test?\n",
    "spec = tn / (tn + fp)\n",
    "print(f' Specificity: {round(spec ,4)}')"
   ]
  },
  {
   "cell_type": "markdown",
   "metadata": {},
   "source": [
    "Specificity  relates for the ability to identify negative results. Likwise our model predicted to be exercise and actually it is also exercise. We can see the specificity of our model is 89.07.%"
   ]
  },
  {
   "cell_type": "code",
   "execution_count": 63,
   "metadata": {},
   "outputs": [
    {
     "name": "stdout",
     "output_type": "stream",
     "text": [
      " Sensitivity: 0.8991\n"
     ]
    }
   ],
   "source": [
    "# What is the sensitivity of our test?\n",
    "sens = tp / (tp + fn)\n",
    "print(f' Sensitivity: {round(sens,4)}')"
   ]
  },
  {
   "cell_type": "markdown",
   "metadata": {},
   "source": [
    "Sensitivity : It's same with emotions, you pick up on the feeling of others. \n",
    "and likewise our model predicted it diet and actually it is diet. \n",
    "We have 89.91% sensitvity which is a good value.\n",
    "From these we can infer that the model has some errors too where in it predicted to be exercise but actually it is diet and viceversa too. \n",
    "There is some overlapping."
   ]
  },
  {
   "cell_type": "code",
   "execution_count": 64,
   "metadata": {},
   "outputs": [
    {
     "data": {
      "text/html": [
       "<div>\n",
       "<style scoped>\n",
       "    .dataframe tbody tr th:only-of-type {\n",
       "        vertical-align: middle;\n",
       "    }\n",
       "\n",
       "    .dataframe tbody tr th {\n",
       "        vertical-align: top;\n",
       "    }\n",
       "\n",
       "    .dataframe thead th {\n",
       "        text-align: right;\n",
       "    }\n",
       "</style>\n",
       "<table border=\"1\" class=\"dataframe\">\n",
       "  <thead>\n",
       "    <tr style=\"text-align: right;\">\n",
       "      <th></th>\n",
       "      <th>predicted</th>\n",
       "      <th>actual</th>\n",
       "      <th>index</th>\n",
       "      <th>clean_selftext_lemmat</th>\n",
       "    </tr>\n",
       "  </thead>\n",
       "  <tbody>\n",
       "    <tr>\n",
       "      <th>0</th>\n",
       "      <td>0</td>\n",
       "      <td>1</td>\n",
       "      <td>1225</td>\n",
       "      <td>recently put together ultimate library bicep w...</td>\n",
       "    </tr>\n",
       "    <tr>\n",
       "      <th>14</th>\n",
       "      <td>1</td>\n",
       "      <td>0</td>\n",
       "      <td>196</td>\n",
       "      <td>dietitian debunks popular movie tv show diet</td>\n",
       "    </tr>\n",
       "    <tr>\n",
       "      <th>34</th>\n",
       "      <td>0</td>\n",
       "      <td>1</td>\n",
       "      <td>1710</td>\n",
       "      <td>calorie counter gym lie</td>\n",
       "    </tr>\n",
       "    <tr>\n",
       "      <th>41</th>\n",
       "      <td>1</td>\n",
       "      <td>0</td>\n",
       "      <td>919</td>\n",
       "      <td>begin hello im mark im bit fatass im trying ch...</td>\n",
       "    </tr>\n",
       "    <tr>\n",
       "      <th>44</th>\n",
       "      <td>0</td>\n",
       "      <td>1</td>\n",
       "      <td>1579</td>\n",
       "      <td>working getting bmi fat metabolism rather carb...</td>\n",
       "    </tr>\n",
       "    <tr>\n",
       "      <th>46</th>\n",
       "      <td>1</td>\n",
       "      <td>0</td>\n",
       "      <td>413</td>\n",
       "      <td>still want work every day run 10km wondering e...</td>\n",
       "    </tr>\n",
       "    <tr>\n",
       "      <th>62</th>\n",
       "      <td>1</td>\n",
       "      <td>0</td>\n",
       "      <td>384</td>\n",
       "      <td>nothing say expect know good 1 week diet get s...</td>\n",
       "    </tr>\n",
       "    <tr>\n",
       "      <th>70</th>\n",
       "      <td>0</td>\n",
       "      <td>1</td>\n",
       "      <td>1661</td>\n",
       "      <td>4ft 9inches weighing 148lbs 37lbs since little...</td>\n",
       "    </tr>\n",
       "    <tr>\n",
       "      <th>72</th>\n",
       "      <td>1</td>\n",
       "      <td>0</td>\n",
       "      <td>237</td>\n",
       "      <td>aspartame break digestion bad</td>\n",
       "    </tr>\n",
       "    <tr>\n",
       "      <th>82</th>\n",
       "      <td>1</td>\n",
       "      <td>0</td>\n",
       "      <td>276</td>\n",
       "      <td>reached 88kg jogging getting change</td>\n",
       "    </tr>\n",
       "    <tr>\n",
       "      <th>96</th>\n",
       "      <td>1</td>\n",
       "      <td>0</td>\n",
       "      <td>532</td>\n",
       "      <td>eating calorie deficit main focus weight loss ...</td>\n",
       "    </tr>\n",
       "    <tr>\n",
       "      <th>139</th>\n",
       "      <td>0</td>\n",
       "      <td>1</td>\n",
       "      <td>1633</td>\n",
       "      <td>took entire year split workout regimen odd mon...</td>\n",
       "    </tr>\n",
       "    <tr>\n",
       "      <th>149</th>\n",
       "      <td>1</td>\n",
       "      <td>0</td>\n",
       "      <td>352</td>\n",
       "      <td>chop one clove raw garlic every single evening...</td>\n",
       "    </tr>\n",
       "    <tr>\n",
       "      <th>177</th>\n",
       "      <td>0</td>\n",
       "      <td>1</td>\n",
       "      <td>1833</td>\n",
       "      <td>hey approach found sustainable term long term ...</td>\n",
       "    </tr>\n",
       "    <tr>\n",
       "      <th>183</th>\n",
       "      <td>1</td>\n",
       "      <td>0</td>\n",
       "      <td>945</td>\n",
       "      <td>wanting take part sort exercise along diet bet...</td>\n",
       "    </tr>\n",
       "    <tr>\n",
       "      <th>200</th>\n",
       "      <td>0</td>\n",
       "      <td>1</td>\n",
       "      <td>1485</td>\n",
       "      <td>one http www tonal com equipment</td>\n",
       "    </tr>\n",
       "    <tr>\n",
       "      <th>209</th>\n",
       "      <td>0</td>\n",
       "      <td>1</td>\n",
       "      <td>1181</td>\n",
       "      <td>average size 16 year old fit guess like really...</td>\n",
       "    </tr>\n",
       "    <tr>\n",
       "      <th>222</th>\n",
       "      <td>1</td>\n",
       "      <td>0</td>\n",
       "      <td>254</td>\n",
       "      <td>detoxing silly concept</td>\n",
       "    </tr>\n",
       "    <tr>\n",
       "      <th>228</th>\n",
       "      <td>0</td>\n",
       "      <td>1</td>\n",
       "      <td>1211</td>\n",
       "      <td>today first cheat day want burn sum easy calor...</td>\n",
       "    </tr>\n",
       "    <tr>\n",
       "      <th>231</th>\n",
       "      <td>1</td>\n",
       "      <td>0</td>\n",
       "      <td>73</td>\n",
       "      <td>healthy diet fatty liver 17 treatment fatty li...</td>\n",
       "    </tr>\n",
       "    <tr>\n",
       "      <th>241</th>\n",
       "      <td>0</td>\n",
       "      <td>1</td>\n",
       "      <td>1783</td>\n",
       "      <td>always heavier side life however 22 5 6 99kg t...</td>\n",
       "    </tr>\n",
       "    <tr>\n",
       "      <th>255</th>\n",
       "      <td>1</td>\n",
       "      <td>0</td>\n",
       "      <td>76</td>\n",
       "      <td>already workout pretty well 3 mile day ab work...</td>\n",
       "    </tr>\n",
       "    <tr>\n",
       "      <th>272</th>\n",
       "      <td>0</td>\n",
       "      <td>1</td>\n",
       "      <td>1860</td>\n",
       "      <td>trying eat healthier difficult cause get cravi...</td>\n",
       "    </tr>\n",
       "    <tr>\n",
       "      <th>275</th>\n",
       "      <td>1</td>\n",
       "      <td>0</td>\n",
       "      <td>168</td>\n",
       "      <td>survey closed hi marielle currently ib diploma...</td>\n",
       "    </tr>\n",
       "    <tr>\n",
       "      <th>281</th>\n",
       "      <td>1</td>\n",
       "      <td>0</td>\n",
       "      <td>323</td>\n",
       "      <td>burn ate dinner next morning gym</td>\n",
       "    </tr>\n",
       "    <tr>\n",
       "      <th>291</th>\n",
       "      <td>0</td>\n",
       "      <td>1</td>\n",
       "      <td>1344</td>\n",
       "      <td>anyone provide tip exercise help double chin o...</td>\n",
       "    </tr>\n",
       "    <tr>\n",
       "      <th>299</th>\n",
       "      <td>0</td>\n",
       "      <td>1</td>\n",
       "      <td>1613</td>\n",
       "      <td>backstory like said 21 never really done much ...</td>\n",
       "    </tr>\n",
       "    <tr>\n",
       "      <th>310</th>\n",
       "      <td>1</td>\n",
       "      <td>0</td>\n",
       "      <td>396</td>\n",
       "      <td>amateur football player play cornerback positi...</td>\n",
       "    </tr>\n",
       "    <tr>\n",
       "      <th>315</th>\n",
       "      <td>1</td>\n",
       "      <td>0</td>\n",
       "      <td>67</td>\n",
       "      <td>podcast episode 62 mediterranean diet</td>\n",
       "    </tr>\n",
       "    <tr>\n",
       "      <th>319</th>\n",
       "      <td>1</td>\n",
       "      <td>0</td>\n",
       "      <td>400</td>\n",
       "      <td>hi 5 6 female 16 year old 150 lb eat 1700 calo...</td>\n",
       "    </tr>\n",
       "    <tr>\n",
       "      <th>325</th>\n",
       "      <td>0</td>\n",
       "      <td>1</td>\n",
       "      <td>1427</td>\n",
       "      <td>6 1 149lbs also extremely high metabolism calc...</td>\n",
       "    </tr>\n",
       "    <tr>\n",
       "      <th>329</th>\n",
       "      <td>0</td>\n",
       "      <td>1</td>\n",
       "      <td>1509</td>\n",
       "      <td>okay im skinny fat guy ive always trouble fat ...</td>\n",
       "    </tr>\n",
       "    <tr>\n",
       "      <th>337</th>\n",
       "      <td>1</td>\n",
       "      <td>0</td>\n",
       "      <td>262</td>\n",
       "      <td>hello everyone want lose weight look slim deve...</td>\n",
       "    </tr>\n",
       "    <tr>\n",
       "      <th>341</th>\n",
       "      <td>0</td>\n",
       "      <td>1</td>\n",
       "      <td>993</td>\n",
       "      <td>hi need help finding guide woman help lose wei...</td>\n",
       "    </tr>\n",
       "    <tr>\n",
       "      <th>362</th>\n",
       "      <td>1</td>\n",
       "      <td>0</td>\n",
       "      <td>864</td>\n",
       "      <td>got really fat short period used kind fit musc...</td>\n",
       "    </tr>\n",
       "    <tr>\n",
       "      <th>368</th>\n",
       "      <td>0</td>\n",
       "      <td>1</td>\n",
       "      <td>1196</td>\n",
       "      <td>hey last year changed eating habit lost 7 kilo...</td>\n",
       "    </tr>\n",
       "    <tr>\n",
       "      <th>376</th>\n",
       "      <td>1</td>\n",
       "      <td>0</td>\n",
       "      <td>917</td>\n",
       "      <td>ever heard tried gm general motor diet result</td>\n",
       "    </tr>\n",
       "    <tr>\n",
       "      <th>398</th>\n",
       "      <td>0</td>\n",
       "      <td>1</td>\n",
       "      <td>1468</td>\n",
       "      <td>anyone know</td>\n",
       "    </tr>\n",
       "    <tr>\n",
       "      <th>401</th>\n",
       "      <td>1</td>\n",
       "      <td>0</td>\n",
       "      <td>809</td>\n",
       "      <td>thinking hard know right thing diet</td>\n",
       "    </tr>\n",
       "    <tr>\n",
       "      <th>419</th>\n",
       "      <td>1</td>\n",
       "      <td>0</td>\n",
       "      <td>770</td>\n",
       "      <td>hei guy seems going well uploaded last daily v...</td>\n",
       "    </tr>\n",
       "    <tr>\n",
       "      <th>429</th>\n",
       "      <td>0</td>\n",
       "      <td>1</td>\n",
       "      <td>1785</td>\n",
       "      <td>http youtu 2tj9fb0yuuq</td>\n",
       "    </tr>\n",
       "    <tr>\n",
       "      <th>430</th>\n",
       "      <td>0</td>\n",
       "      <td>1</td>\n",
       "      <td>1030</td>\n",
       "      <td>good</td>\n",
       "    </tr>\n",
       "    <tr>\n",
       "      <th>431</th>\n",
       "      <td>0</td>\n",
       "      <td>1</td>\n",
       "      <td>1578</td>\n",
       "      <td>gaining renewing motivation needed weight loss</td>\n",
       "    </tr>\n",
       "    <tr>\n",
       "      <th>433</th>\n",
       "      <td>0</td>\n",
       "      <td>1</td>\n",
       "      <td>1837</td>\n",
       "      <td>january pushed around 200 pound result poor ea...</td>\n",
       "    </tr>\n",
       "    <tr>\n",
       "      <th>443</th>\n",
       "      <td>1</td>\n",
       "      <td>0</td>\n",
       "      <td>631</td>\n",
       "      <td>going sophomore high school going competing st...</td>\n",
       "    </tr>\n",
       "    <tr>\n",
       "      <th>449</th>\n",
       "      <td>1</td>\n",
       "      <td>0</td>\n",
       "      <td>335</td>\n",
       "      <td>one better overall health</td>\n",
       "    </tr>\n",
       "    <tr>\n",
       "      <th>457</th>\n",
       "      <td>1</td>\n",
       "      <td>0</td>\n",
       "      <td>198</td>\n",
       "      <td>anybody gap diet</td>\n",
       "    </tr>\n",
       "    <tr>\n",
       "      <th>466</th>\n",
       "      <td>1</td>\n",
       "      <td>0</td>\n",
       "      <td>810</td>\n",
       "      <td>hello 22 year old male workout 4 5 day week si...</td>\n",
       "    </tr>\n",
       "    <tr>\n",
       "      <th>469</th>\n",
       "      <td>1</td>\n",
       "      <td>0</td>\n",
       "      <td>468</td>\n",
       "      <td>ldl cholesterol latest bloodwork came back app...</td>\n",
       "    </tr>\n",
       "    <tr>\n",
       "      <th>473</th>\n",
       "      <td>0</td>\n",
       "      <td>1</td>\n",
       "      <td>1620</td>\n",
       "      <td>hello fairly new exercising would like lose be...</td>\n",
       "    </tr>\n",
       "  </tbody>\n",
       "</table>\n",
       "</div>"
      ],
      "text/plain": [
       "     predicted  actual  index  \\\n",
       "0            0       1   1225   \n",
       "14           1       0    196   \n",
       "34           0       1   1710   \n",
       "41           1       0    919   \n",
       "44           0       1   1579   \n",
       "46           1       0    413   \n",
       "62           1       0    384   \n",
       "70           0       1   1661   \n",
       "72           1       0    237   \n",
       "82           1       0    276   \n",
       "96           1       0    532   \n",
       "139          0       1   1633   \n",
       "149          1       0    352   \n",
       "177          0       1   1833   \n",
       "183          1       0    945   \n",
       "200          0       1   1485   \n",
       "209          0       1   1181   \n",
       "222          1       0    254   \n",
       "228          0       1   1211   \n",
       "231          1       0     73   \n",
       "241          0       1   1783   \n",
       "255          1       0     76   \n",
       "272          0       1   1860   \n",
       "275          1       0    168   \n",
       "281          1       0    323   \n",
       "291          0       1   1344   \n",
       "299          0       1   1613   \n",
       "310          1       0    396   \n",
       "315          1       0     67   \n",
       "319          1       0    400   \n",
       "325          0       1   1427   \n",
       "329          0       1   1509   \n",
       "337          1       0    262   \n",
       "341          0       1    993   \n",
       "362          1       0    864   \n",
       "368          0       1   1196   \n",
       "376          1       0    917   \n",
       "398          0       1   1468   \n",
       "401          1       0    809   \n",
       "419          1       0    770   \n",
       "429          0       1   1785   \n",
       "430          0       1   1030   \n",
       "431          0       1   1578   \n",
       "433          0       1   1837   \n",
       "443          1       0    631   \n",
       "449          1       0    335   \n",
       "457          1       0    198   \n",
       "466          1       0    810   \n",
       "469          1       0    468   \n",
       "473          0       1   1620   \n",
       "\n",
       "                                 clean_selftext_lemmat  \n",
       "0    recently put together ultimate library bicep w...  \n",
       "14       dietitian debunks popular movie tv show diet   \n",
       "34                            calorie counter gym lie   \n",
       "41   begin hello im mark im bit fatass im trying ch...  \n",
       "44   working getting bmi fat metabolism rather carb...  \n",
       "46   still want work every day run 10km wondering e...  \n",
       "62   nothing say expect know good 1 week diet get s...  \n",
       "70   4ft 9inches weighing 148lbs 37lbs since little...  \n",
       "72                      aspartame break digestion bad   \n",
       "82                reached 88kg jogging getting change   \n",
       "96   eating calorie deficit main focus weight loss ...  \n",
       "139  took entire year split workout regimen odd mon...  \n",
       "149  chop one clove raw garlic every single evening...  \n",
       "177  hey approach found sustainable term long term ...  \n",
       "183  wanting take part sort exercise along diet bet...  \n",
       "200                  one http www tonal com equipment   \n",
       "209  average size 16 year old fit guess like really...  \n",
       "222                            detoxing silly concept   \n",
       "228  today first cheat day want burn sum easy calor...  \n",
       "231  healthy diet fatty liver 17 treatment fatty li...  \n",
       "241  always heavier side life however 22 5 6 99kg t...  \n",
       "255  already workout pretty well 3 mile day ab work...  \n",
       "272  trying eat healthier difficult cause get cravi...  \n",
       "275  survey closed hi marielle currently ib diploma...  \n",
       "281                  burn ate dinner next morning gym   \n",
       "291  anyone provide tip exercise help double chin o...  \n",
       "299  backstory like said 21 never really done much ...  \n",
       "310  amateur football player play cornerback positi...  \n",
       "315             podcast episode 62 mediterranean diet   \n",
       "319  hi 5 6 female 16 year old 150 lb eat 1700 calo...  \n",
       "325  6 1 149lbs also extremely high metabolism calc...  \n",
       "329  okay im skinny fat guy ive always trouble fat ...  \n",
       "337  hello everyone want lose weight look slim deve...  \n",
       "341  hi need help finding guide woman help lose wei...  \n",
       "362  got really fat short period used kind fit musc...  \n",
       "368  hey last year changed eating habit lost 7 kilo...  \n",
       "376     ever heard tried gm general motor diet result   \n",
       "398                                       anyone know   \n",
       "401               thinking hard know right thing diet   \n",
       "419  hei guy seems going well uploaded last daily v...  \n",
       "429                            http youtu 2tj9fb0yuuq   \n",
       "430                                              good   \n",
       "431    gaining renewing motivation needed weight loss   \n",
       "433  january pushed around 200 pound result poor ea...  \n",
       "443  going sophomore high school going competing st...  \n",
       "449                         one better overall health   \n",
       "457                                  anybody gap diet   \n",
       "466  hello 22 year old male workout 4 5 day week si...  \n",
       "469  ldl cholesterol latest bloodwork came back app...  \n",
       "473  hello fairly new exercising would like lose be...  "
      ]
     },
     "execution_count": 64,
     "metadata": {},
     "output_type": "execute_result"
    }
   ],
   "source": [
    "#let's look at mis-classified posts\n",
    "# Create DataFrame with column for predicted values.\n",
    "results = pd.DataFrame(predictions, columns=['predicted'])\n",
    "results.head()\n",
    "# Create column for observed values.\n",
    "results['actual'] = y_test.values\n",
    "results['index'] = y_test.index\n",
    "results['clean_selftext_lemmat'] = X_test.values\n",
    "# Find rows where the predicted label and the actual label is different\n",
    "results[results['predicted'] != results['actual']]"
   ]
  },
  {
   "cell_type": "markdown",
   "metadata": {},
   "source": [
    "## Sentiment Analysis"
   ]
  },
  {
   "cell_type": "code",
   "execution_count": 65,
   "metadata": {},
   "outputs": [],
   "source": [
    "#from textblob import TextBlob"
   ]
  },
  {
   "cell_type": "code",
   "execution_count": 66,
   "metadata": {},
   "outputs": [],
   "source": [
    "#df['polarity'] = df['clean_selftext_lemmat'].map(lambda text: TextBlob(text).sentiment.polarity)"
   ]
  },
  {
   "cell_type": "code",
   "execution_count": 67,
   "metadata": {},
   "outputs": [],
   "source": [
    "#df.columns"
   ]
  },
  {
   "cell_type": "code",
   "execution_count": 68,
   "metadata": {},
   "outputs": [],
   "source": [
    "#df.groupby('label')['polarity'].count()"
   ]
  },
  {
   "cell_type": "markdown",
   "metadata": {},
   "source": [
    "TextBlob is a python library for processing textual data.\n",
    "The sentiment function of textblob returns two properties, polarity and subjectivity. \n",
    "Polarity is float which lies in the range of [-1,1] where 1 means positive statement and -1 means a negative statement."
   ]
  },
  {
   "cell_type": "code",
   "execution_count": 69,
   "metadata": {},
   "outputs": [],
   "source": [
    "#import cufflinks as cf\n",
    "#cf.go_offline()\n",
    "#cf.set_config_file(offline = False, world_readable = True)"
   ]
  },
  {
   "cell_type": "markdown",
   "metadata": {},
   "source": [
    "The polarity object is a pandas.series object which does not have a iplot method when not linked to plotly. We need cufflinks to link plotly to pandas and add the iplot method.\n",
    "If we don't have cufflinks get it with : pip install cufflinks --upgrade"
   ]
  },
  {
   "cell_type": "code",
   "execution_count": 70,
   "metadata": {},
   "outputs": [],
   "source": [
    "#df['polarity'].iplot(kind = 'hist', bins = 50, xTitle = 'polarity',\n",
    "                    # linecolor = 'black', yTitle='count', title = 'Sentiment Polarity Distribution')"
   ]
  },
  {
   "cell_type": "markdown",
   "metadata": {},
   "source": [
    "## Insights:\n",
    "From the above plot, we can infer that the vast majority of sentiment polarity scores are equal to zero which infers that most post are with neutral sentiment and also there are sentiment scores greater than zero which means most of them are pretty positive."
   ]
  },
  {
   "cell_type": "code",
   "execution_count": 71,
   "metadata": {},
   "outputs": [],
   "source": [
    "word_list = tvec.get_feature_names()\n",
    "count_list = X_train_tvec.toarray().sum(axis = 0)\n",
    "word_count_dict = (dict(zip(word_list, count_list)))\n",
    "\n",
    "train_df_vocab = pd.DataFrame(list(word_count_dict.items()), columns = (['word', 'count'])).sort_values('word', ascending = True)\n",
    "TrainData_top_30 = train_df_vocab.sort_values('count', ascending = False).head(30)\n",
    "\n"
   ]
  },
  {
   "cell_type": "code",
   "execution_count": 72,
   "metadata": {},
   "outputs": [
    {
     "data": {
      "image/png": "[encoded data removed]",
      "text/plain": [
       "<Figure size 1440x720 with 1 Axes>"
      ]
     },
     "metadata": {
      "needs_background": "light"
     },
     "output_type": "display_data"
    }
   ],
   "source": [
    "plt.figure(figsize = (20,10))\n",
    "ax = sns.barplot(x = 'count', y = 'word', data = TrainData_top_30)\n",
    "ax.set_xlabel(\"Word Count\", fontsize = 12)\n",
    "ax.tick_params(labelsize = 15)"
   ]
  },
  {
   "cell_type": "code",
   "execution_count": null,
   "metadata": {},
   "outputs": [],
   "source": []
  },
  {
   "cell_type": "markdown",
   "metadata": {},
   "source": [
    "From the above plot we can see people talk more on diet than exercise.\n",
    "Thanks to healthline.com where they stated that eating a well balanced diet can help you get the calories and nutrients you need to fuel your daily activites, including regular exercise. \n",
    "So, we will conclude this project by saying that\n",
    "## EAT RIGHT TYPE OF FOOD AT THE RIGHT TIMES OF THE DAY"
   ]
  },
  {
   "cell_type": "markdown",
   "metadata": {},
   "source": [
    "## Recommendation:\n",
    "\n",
    "Eat right type of food at the right time of the day \n",
    "\n",
    "## Improvement\n",
    "By scrapping more post, the score could be improved\n",
    "\n",
    "## Data Science solution: \n",
    "Our model was able to classify two subreddits very efficiently."
   ]
  }
 ],
 "metadata": {
  "kernelspec": {
   "display_name": "Python 3",
   "language": "python",
   "name": "python3"
  },
  "language_info": {
   "codemirror_mode": {
    "name": "ipython",
    "version": 3
   },
   "file_extension": ".py",
   "mimetype": "text/x-python",
   "name": "python",
   "nbconvert_exporter": "python",
   "pygments_lexer": "ipython3",
   "version": "3.7.3"
  }
 },
 "nbformat": 4,
 "nbformat_minor": 2
}
